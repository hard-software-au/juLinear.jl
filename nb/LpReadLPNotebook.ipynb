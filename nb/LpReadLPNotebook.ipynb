{
 "cells": [
  {
   "cell_type": "markdown",
   "metadata": {},
   "source": [
    "#"
   ]
  },
  {
   "cell_type": "markdown",
   "metadata": {},
   "source": [
    "# LP reader"
   ]
  },
  {
   "cell_type": "markdown",
   "metadata": {},
   "source": [
    "This Notebook develops a .lp reader."
   ]
  },
  {
   "cell_type": "code",
   "execution_count": 1,
   "metadata": {},
   "outputs": [],
   "source": [
    "using SparseArrays\n",
    "using LinearAlgebra\n",
    "using DataStructures  # For OrderedDict if needed\n",
    "\n",
    "push!(LOAD_PATH, realpath(\"../src\"))\n",
    "using LpProblem\n",
    "using LpReadLP\n",
    "using LpReadMPS"
   ]
  },
  {
   "cell_type": "markdown",
   "metadata": {},
   "source": [
    "<details>\n",
    "    <summary><h3> LPProblem Struct </h3></summary>\n",
    "\n",
    "```juila\n",
    "struct LPProblem\n",
    "    is_minimize::Bool                     # True if the objective is to minimize\n",
    "    c::Vector{Float64}                    # Objective function coefficients\n",
    "    A::SparseMatrixCSC{Float64, Int64}    # Constraint matrix\n",
    "    b::Vector{Float64}                    # Right-hand side of constraints\n",
    "    constraint_types::Vector{Char}        # Constraint types ('L', 'G', 'E')\n",
    "    l::Vector{Float64}                    # Lower bounds for variables\n",
    "    u::Vector{Float64}                    # Upper bounds for variables\n",
    "    vars::Vector{String}                  # Variable names\n",
    "    variable_types::Vector{Symbol}        # Variable types\n",
    "end\n",
    "```\n",
    "\n",
    "</details>"
   ]
  },
  {
   "cell_type": "code",
   "execution_count": null,
   "metadata": {},
   "outputs": [],
   "source": [
    "lp_filepath = \"../check/problems/lp_files/1451.lp\"\n",
    " \n",
    "lp = read_lp(lp_filepath)\n",
    "\n",
    "# Accessing different components\n",
    "println(\"Objective is to minimize: \", lp.is_minimize)\n",
    "println(\"Objective coefficients: \", lp.c)\n",
    "println(\"Constraint matrix A: \", lp.A)\n",
    "println(\"Right-hand side vector b: \", lp.b)\n",
    "println(\"Constraint types: \", lp.constraint_types)\n",
    "println(\"Lower bounds: \", lp.l)\n",
    "println(\"Upper bounds: \", lp.u)\n",
    "println(\"Variables: \", lp.vars)\n",
    "println(\"Variable types: \", lp.variable_types)\n"
   ]
  },
  {
   "cell_type": "code",
   "execution_count": null,
   "metadata": {},
   "outputs": [],
   "source": [
    "println(read_file_to_string(lp_filepath))"
   ]
  },
  {
   "cell_type": "code",
   "execution_count": null,
   "metadata": {},
   "outputs": [],
   "source": [
    "lp_filepath = \"../check/problems/lp_files/juLinear_ex1.lp\"\n",
    " \n",
    "lp = read_lp(lp_filepath)\n",
    "\n",
    "# Accessing different components\n",
    "println(\"Objective is to minimize: \", lp.is_minimize)\n",
    "println(\"Objective coefficients: \", lp.c)\n",
    "println(\"Constraint matrix A: \", lp.A)\n",
    "println(\"Right-hand side vector b: \", lp.b)\n",
    "println(\"Constraint types: \", lp.constraint_types)\n",
    "println(\"Lower bounds: \", lp.l)\n",
    "println(\"Upper bounds: \", lp.u)\n",
    "println(\"Variables: \", lp.vars)\n",
    "println(\"Variable types: \", lp.variable_types)"
   ]
  },
  {
   "cell_type": "code",
   "execution_count": null,
   "metadata": {},
   "outputs": [],
   "source": [
    "lp_problem"
   ]
  },
  {
   "cell_type": "markdown",
   "metadata": {},
   "source": [
    "## Writing LP Files"
   ]
  },
  {
   "cell_type": "markdown",
   "metadata": {},
   "source": [
    "<details>\n",
    "    <summary>Write Lp Function</summary>\n",
    "\n",
    "```julia\n",
    "function write_lp(filename::String, problem::LPProblem; tolerance::Float64=1e-10)\n",
    "    # Validate input dimensions\n",
    "    n_vars = length(problem.vars)\n",
    "    n_constraints = size(problem.A, 1)\n",
    "    \n",
    "    @assert length(problem.c) == n_vars \"Objective coefficient vector length mismatch\"\n",
    "    @assert size(problem.A, 2) == n_vars \"Constraint matrix column count mismatch\"\n",
    "    @assert length(problem.b) == n_constraints \"RHS vector length mismatch\"\n",
    "    @assert length(problem.constraint_types) == n_constraints \"Constraint types length mismatch\"\n",
    "    @assert length(problem.l) == n_vars \"Lower bounds vector length mismatch\"\n",
    "    @assert length(problem.u) == n_vars \"Upper bounds vector length mismatch\"\n",
    "    @assert length(problem.variable_types) == n_vars \"Variable types length mismatch\"\n",
    "    \n",
    "    # Validate constraint types\n",
    "    valid_types = ['L', 'G', 'E']\n",
    "    @assert all(t ∈ valid_types for t in problem.constraint_types) \"Invalid constraint type found\"\n",
    "    \n",
    "    function format_term(coeff::Float64, var::String, is_first::Bool)\n",
    "        abs_coeff = abs(coeff)\n",
    "        if abs_coeff < tolerance\n",
    "            return \"\"\n",
    "        elseif abs(abs_coeff - 1.0) < tolerance\n",
    "            prefix = coeff < 0 ? \"- \" : (is_first ? \"\" : \"+ \")\n",
    "            return \"$(prefix)$var\"\n",
    "        else\n",
    "            prefix = coeff < 0 ? \"-\" : (is_first ? \"\" : \"+\")\n",
    "            return \"$(prefix) $abs_coeff $var\"\n",
    "        end\n",
    "    end\n",
    "\n",
    "    open(filename, \"w\") do io\n",
    "        # Write Objective\n",
    "        println(io, problem.is_minimize ? \"Minimize\" : \"Maximize\")\n",
    "        print(io, \" obj: \")\n",
    "        \n",
    "        # Write objective function\n",
    "        terms = String[]\n",
    "        first_term = true\n",
    "        for (i, coeff) in enumerate(problem.c)\n",
    "            term = format_term(coeff, problem.vars[i], first_term)\n",
    "            if !isempty(term)\n",
    "                push!(terms, term)\n",
    "                first_term = false\n",
    "            end\n",
    "        end\n",
    "        println(io, isempty(terms) ? \"0\" : join(terms, \" \"))\n",
    "\n",
    "        # Write Constraints\n",
    "        println(io, \"Subject To\")\n",
    "        for i in 1:n_constraints\n",
    "            terms = String[]\n",
    "            first_term = true\n",
    "            for (j, coeff) in zip(findnz(problem.A[i, :])...)\n",
    "                term = format_term(coeff, problem.vars[j], first_term)\n",
    "                if !isempty(term)\n",
    "                    push!(terms, term)\n",
    "                    first_term = false\n",
    "                end\n",
    "            end\n",
    "            \n",
    "            relation = Dict('L' => \"<=\", 'G' => \">=\", 'E' => \"=\")[problem.constraint_types[i]]\n",
    "            println(io, \" c$i: \", isempty(terms) ? \"0\" : join(terms, \" \"), \" $relation $(problem.b[i])\")\n",
    "        end\n",
    "\n",
    "        # Write Bounds\n",
    "        println(io, \"Bounds\")\n",
    "        for i in 1:n_vars\n",
    "            var = problem.vars[i]\n",
    "            lower = problem.l[i]\n",
    "            upper = problem.u[i]\n",
    "            \n",
    "            if abs(lower - upper) < tolerance\n",
    "                println(io, \" $var = $lower\")\n",
    "            elseif lower > -Inf && upper < Inf\n",
    "                println(io, \" $lower <= $var <= $upper\")\n",
    "            elseif lower > -Inf\n",
    "                println(io, \" $var >= $lower\")\n",
    "            elseif upper < Inf\n",
    "                println(io, \" $var <= $upper\")\n",
    "            else\n",
    "                println(io, \" $var free\")\n",
    "            end\n",
    "        end\n",
    "\n",
    "        # Write Binary and Integer variables\n",
    "        for var_type in [:Binary, :Integer]\n",
    "            vars_of_type = [problem.vars[i] for i in 1:n_vars if problem.variable_types[i] == var_type]\n",
    "            if !isempty(vars_of_type)\n",
    "                println(io, var_type == :Binary ? \"Binary\" : \"General\")\n",
    "                for var in vars_of_type\n",
    "                    println(io, \" $var\")\n",
    "                end\n",
    "            end\n",
    "        end\n",
    "\n",
    "        println(io, \"End\")\n",
    "    end\n",
    "end\n",
    "```\n",
    "\n",
    "</details>"
   ]
  },
  {
   "cell_type": "code",
   "execution_count": 4,
   "metadata": {},
   "outputs": [],
   "source": [
    "# lp_filepath = \"../check/problems/mps_files/test.mps\"\n",
    "# lp = read_mps_from_file(lp_filepath)\n",
    "# write_lp(\"../check/problems/lp_files/test.lp\", lp)"
   ]
  },
  {
   "cell_type": "code",
   "execution_count": 7,
   "metadata": {},
   "outputs": [],
   "source": [
    "# lp_filepath = \"../check/problems/mps_files/ex_9-7.mps\"\n",
    "# lp = read_mps_from_file(lp_filepath)\n",
    "# write_lp(\"../check/problems/lp_files/ex_9-7.lp\", lp)"
   ]
  },
  {
   "cell_type": "code",
   "execution_count": 2,
   "metadata": {},
   "outputs": [],
   "source": [
    "lp_filepath = \"../check/problems/mps_files/ex4-3.mps\"\n",
    "lp = read_mps(lp_filepath)\n",
    "write_lp(\"../check/problems/lp_files/ex4-3.lp\",lp)"
   ]
  },
  {
   "cell_type": "code",
   "execution_count": 10,
   "metadata": {},
   "outputs": [],
   "source": [
    "function Base.:(==)(lp1::LPProblem, lp2::LPProblem)\n",
    "    return lp1.is_minimize == lp2.is_minimize &&\n",
    "           lp1.c == lp2.c &&\n",
    "           lp1.A == lp2.A &&\n",
    "           lp1.b == lp2.b &&\n",
    "           lp1.constraint_types == lp2.constraint_types &&\n",
    "           lp1.l == lp2.l &&\n",
    "           lp1.u == lp2.u &&\n",
    "           lp1.vars == lp2.vars &&\n",
    "           lp1.variable_types == lp2.variable_types\n",
    "end\n"
   ]
  },
  {
   "cell_type": "code",
   "execution_count": 12,
   "metadata": {},
   "outputs": [
    {
     "name": "stdout",
     "output_type": "stream",
     "text": [
      "LPProblem(true, [0.0, 0.0, 0.0, 0.0, 0.0], sparse([1, 2, 1, 2, 1, 2, 1, 2, 1, 2], [1, 1, 2, 2, 3, 3, 4, 4, 5, 5], [4.0, -3.0, -3.0, 2.0, -2.0, -1.0, 1.0, 2.0, 2.0, 3.0], 2, 5), [13.0, -9.0], ['L', 'L'], [0.0, 0.0, 1.0, 2.0, 0.0], [Inf, 3.0, 5.0, 4.0, Inf], [\"x1\", \"x2\", \"x3\", \"y4\", \"y5\"], [:Continuous, :Continuous, :Continuous, :Continuous, :Continuous])\n",
      "LPProblem(true, [0.0, 0.0, 0.0, 0.0, 0.0], sparse([1, 2, 1, 2, 1, 2, 1, 2, 1, 2], [1, 1, 2, 2, 3, 3, 4, 4, 5, 5], [4.0, -3.0, -3.0, 2.0, -2.0, -1.0, 1.0, 2.0, 2.0, 3.0], 2, 5), [13.0, -9.0], ['L', 'L'], [0.0, 0.0, 1.0, 2.0, 0.0], [Inf, 3.0, 5.0, 4.0, Inf], [\"x1\", \"x2\", \"x3\", \"y4\", \"y5\"], [:Continuous, :Continuous, :Continuous, :Continuous, :Continuous])\n",
      "true\n"
     ]
    }
   ],
   "source": [
    "println(lp)\n",
    "println(read_lp(\"../check/problems/lp_files/ex4-3.lp\"))\n",
    "println(lp == read_lp(\"../check/problems/lp_files/ex4-3.lp\")) "
   ]
  }
 ],
 "metadata": {
  "kernelspec": {
   "display_name": "Julia 1.10.5",
   "language": "julia",
   "name": "julia-1.10"
  },
  "language_info": {
   "file_extension": ".jl",
   "mimetype": "application/julia",
   "name": "julia",
   "version": "1.10.5"
  }
 },
 "nbformat": 4,
 "nbformat_minor": 2
}
