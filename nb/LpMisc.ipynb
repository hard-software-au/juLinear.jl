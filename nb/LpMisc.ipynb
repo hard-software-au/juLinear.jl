{
 "cells": [
  {
   "cell_type": "code",
   "execution_count": null,
   "metadata": {
    "vscode": {
     "languageId": "rust"
    }
   },
   "outputs": [],
   "source": []
  },
  {
   "cell_type": "markdown",
   "metadata": {},
   "source": [
    "```mermaid\n",
    "pie title What is your favorite ice-cream flavor?\n",
    "    \"vanilla\" : 70\n",
    "    \"Choco chip\" : 120\n",
    "    \"Strawberry\" : 80\n",
    "    \"Choco Mint\" : 60\n",
    "```\n"
   ]
  },
  {
   "cell_type": "markdown",
   "metadata": {},
   "source": [
    "<p align=\"right\">(<a href=\"#readme-top\">back to top</a>)</p>\n",
    "\n",
    "## Comparing List Comphension to for loops"
   ]
  },
  {
   "cell_type": "code",
   "execution_count": 4,
   "metadata": {
    "vscode": {
     "languageId": "rust"
    }
   },
   "outputs": [
    {
     "ename": "Error",
     "evalue": "expected one of `!` or `[`, found `Example`",
     "output_type": "error",
     "traceback": [
      "# Example of a list comprehension",
      "  ^^^^^^^ expected one of `!` or `[`",
      "expected one of `!` or `[`, found `Example`"
     ]
    },
    {
     "ename": "Error",
     "evalue": "the usage of Script Group `Greek` in this crate consists solely of mixed script confusables",
     "output_type": "error",
     "traceback": [
      "function list_comprehension_example(A::Matrix{Float64}, ε::Float64)",
      "                                                        ^ warning: the usage of Script Group `Greek` in this crate consists solely of mixed script confusables",
      "the usage of Script Group `Greek` in this crate consists solely of mixed script confusables"
     ]
    }
   ],
   "source": [
    "# Example of a list comprehension\n",
    "function list_comprehension_example(A::Matrix{Float64}, ε::Float64)\n",
    "    non_zero_rows = [i for i in 1:size(A, 1) if any(abs.(A[i, :]) .> ε)]\n",
    "    return non_zero_rows\n",
    "end\n",
    "\n",
    "# Example of a for loop\n",
    "function loop_example(A::Matrix{Float64}, ε::Float64)\n",
    "    non_zero_rows = []\n",
    "    for i in 1:size(A, 1)\n",
    "        if any(abs.(A[i, :]) .> ε)\n",
    "            push!(non_zero_rows, i)\n",
    "        end\n",
    "    end\n",
    "    return non_zero_rows\n",
    "end\n",
    "\n",
    "# Create a random matrix for testing\n",
    "A = rand(10000, 10000)\n",
    "ε = 1e-8\n",
    "\n",
    "# Benchmark the list comprehension\n",
    "@btime list_comprehension_example($A, $ε)\n",
    "\n",
    "# Benchmark the for loop\n",
    "@btime loop_example($A, $ε)"
   ]
  },
  {
   "cell_type": "code",
   "execution_count": 8,
   "metadata": {
    "vscode": {
     "languageId": "rust"
    }
   },
   "outputs": [],
   "source": [
    ":dep ndarray = \"0.15\"\n",
    ":dep rand = \"0.8\"\n",
    "\n",
    "\n",
    "use ndarray::{Array2, Array1};   // Import ndarray for matrix operations\n",
    "use rand::distributions::Uniform;  // Import rand for random number generation\n",
    "use rand::Rng;                     // Import Rng trait for random number generation"
   ]
  },
  {
   "cell_type": "code",
   "execution_count": 9,
   "metadata": {
    "vscode": {
     "languageId": "rust"
    }
   },
   "outputs": [],
   "source": [
    "use ndarray::{Array2, Array1};   // Import ndarray for matrix operations\n",
    "use rand::distributions::Uniform;  // Import rand for random number generation\n",
    "use rand::Rng;                     // Import Rng trait for random number generation\n"
   ]
  },
  {
   "cell_type": "code",
   "execution_count": 10,
   "metadata": {
    "vscode": {
     "languageId": "rust"
    }
   },
   "outputs": [],
   "source": [
    "fn list_comprehension_example(a: &Array2<f64>, epsilon: f64) -> Vec<usize> {\n",
    "    (0..a.nrows())\n",
    "        .filter(|&i| a.row(i).iter().any(|&x| x.abs() > epsilon))\n",
    "        .collect()\n",
    "}\n"
   ]
  },
  {
   "cell_type": "code",
   "execution_count": 11,
   "metadata": {
    "vscode": {
     "languageId": "rust"
    }
   },
   "outputs": [],
   "source": [
    "fn loop_example(a: &Array2<f64>, epsilon: f64) -> Vec<usize> {\n",
    "    let mut non_zero_rows = Vec::new();\n",
    "    for i in 0..a.nrows() {\n",
    "        if a.row(i).iter().any(|&x| x.abs() > epsilon) {\n",
    "            non_zero_rows.push(i);\n",
    "        }\n",
    "    }\n",
    "    non_zero_rows\n",
    "}"
   ]
  },
  {
   "cell_type": "code",
   "execution_count": 12,
   "metadata": {
    "vscode": {
     "languageId": "rust"
    }
   },
   "outputs": [
    {
     "name": "stdout",
     "output_type": "stream",
     "text": [
      "Number of non-zero rows: 10000\n"
     ]
    }
   ],
   "source": [
    "// Define matrix dimensions and generate random matrix\n",
    "let mut rng = rand::thread_rng();\n",
    "let rows = 10000;\n",
    "let cols = 10000;\n",
    "let a: Array2<f64> = Array2::from_shape_fn((rows, cols), |_| rng.sample(Uniform::new(-1.0, 1.0)));\n",
    "\n",
    "// Benchmark both functions\n",
    "let epsilon = 1e-8;\n",
    "let result1 = list_comprehension_example(&a, epsilon);\n",
    "let result2 = loop_example(&a, epsilon);\n",
    "\n",
    "println!(\"Number of non-zero rows: {}\", result1.len());"
   ]
  }
 ],
 "metadata": {
  "kernelspec": {
   "display_name": "Rust",
   "language": "rust",
   "name": "rust"
  },
  "language_info": {
   "codemirror_mode": "rust",
   "file_extension": ".rs",
   "mimetype": "text/rust",
   "name": "Rust",
   "pygment_lexer": "rust",
   "version": ""
  }
 },
 "nbformat": 4,
 "nbformat_minor": 2
}
