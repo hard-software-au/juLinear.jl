{
 "cells": [
  {
   "cell_type": "markdown",
   "metadata": {},
   "source": [
    "#"
   ]
  },
  {
   "cell_type": "markdown",
   "metadata": {},
   "source": [
    "# LP reader"
   ]
  },
  {
   "cell_type": "markdown",
   "metadata": {},
   "source": [
    "This Notebook develops a .lp reader."
   ]
  },
  {
   "cell_type": "code",
   "execution_count": null,
   "metadata": {},
   "outputs": [],
   "source": [
    "function read_file_to_string(file_path::String)\n",
    "    return open(file_path, \"r\") do f\n",
    "        read(f, String)\n",
    "    end\n",
    "end"
   ]
  },
  {
   "cell_type": "code",
   "execution_count": 1,
   "metadata": {},
   "outputs": [],
   "source": [
    "using SparseArrays\n",
    "using DataStructures: OrderedDict\n",
    "\n",
    "\n",
    "struct MIPProblem\n",
    "    is_minimize::Bool\n",
    "    c::Vector{Float64}\n",
    "    A::SparseMatrixCSC{Float64, Int64}\n",
    "    b::Vector{Float64}\n",
    "    l::Vector{Float64}\n",
    "    u::Vector{Float64}\n",
    "    vars::Vector{String}\n",
    "    variable_types::Vector{Symbol}\n",
    "    constraint_types::Vector{Char}\n",
    "end"
   ]
  },
  {
   "cell_type": "code",
   "execution_count": 33,
   "metadata": {},
   "outputs": [
    {
     "data": {
      "text/plain": [
       "debug_print (generic function with 1 method)"
      ]
     },
     "metadata": {},
     "output_type": "display_data"
    }
   ],
   "source": [
    "function debug_print(debug::Bool, msg...)\n",
    "    if debug\n",
    "        println(msg...)\n",
    "    end\n",
    "end"
   ]
  },
  {
   "cell_type": "code",
   "execution_count": 31,
   "metadata": {},
   "outputs": [
    {
     "data": {
      "text/plain": [
       "read_lp_from_string (generic function with 1 method)"
      ]
     },
     "metadata": {},
     "output_type": "display_data"
    }
   ],
   "source": [
    "function read_lp_from_string(lp_string::String; debug::Bool=false)\n",
    "    # Initialize fields\n",
    "    debug_print(debug, \"Starting read_lp_from_string...\")\n",
    "    \n",
    "    is_minimize = true\n",
    "    c = OrderedDict{String, Float64}()  # Keep track of objective coefficients\n",
    "    A_data = Float64[]\n",
    "    A_row = Int[]\n",
    "    A_col = Int[]\n",
    "    b = Float64[]\n",
    "    l = OrderedDict{String, Float64}()\n",
    "    u = OrderedDict{String, Float64}()\n",
    "    vars = OrderedDict{String, Nothing}()  # Ensure consistent variable order\n",
    "    variable_types = OrderedDict{String, Symbol}()\n",
    "    constraint_types = Char[]\n",
    "\n",
    "    # Split the LP string into lines and start parsing\n",
    "    lines = split(lp_string, \"\\n\")\n",
    "    debug_print(debug, \"Parsed lines: \", lines)\n",
    "\n",
    "    # Parse objective sense (Minimize or Maximize)\n",
    "    for line in lines\n",
    "        if startswith(line, \"Minimize\")\n",
    "            is_minimize = true\n",
    "            debug_print(debug, \"Objective is minimization.\")\n",
    "        elseif startswith(line, \"Maximize\")\n",
    "            is_minimize = false\n",
    "            debug_print(debug, \"Objective is maximization.\")\n",
    "        end\n",
    "    end\n",
    "\n",
    "    in_objective_section = false\n",
    "    in_constraint_section = false\n",
    "    in_bounds_section = false\n",
    "\n",
    "    for line in lines\n",
    "        line = strip(line)\n",
    "        if isempty(line)\n",
    "            continue\n",
    "        end\n",
    "\n",
    "        # Debug: Current line being processed\n",
    "        debug_print(debug, \"Processing line: \", line)\n",
    "\n",
    "        # Parse the objective function\n",
    "        if startswith(line, \"Minimize\") || startswith(line, \"Maximize\")\n",
    "            in_objective_section = true\n",
    "            debug_print(debug, \"Entering objective function section.\")\n",
    "            continue\n",
    "        end\n",
    "\n",
    "        if in_objective_section\n",
    "            if startswith(line, \"Subject To\")\n",
    "                in_objective_section = false\n",
    "                in_constraint_section = true\n",
    "                debug_print(debug, \"Finished objective function, entering constraints section.\")\n",
    "                continue\n",
    "            end\n",
    "\n",
    "            # Remove the prefix 'obj:' from the line\n",
    "            if startswith(line, \"obj:\")\n",
    "                line = strip(line[5:end])  # Remove \"obj: \" prefix\n",
    "            end\n",
    "\n",
    "            # Ensure both positive and negative coefficients are handled\n",
    "            terms = split(replace(strip(line), \"-\" => \"+-\"), \" + \")\n",
    "            debug_print(debug, \"Objective terms: \", terms)\n",
    "\n",
    "            for term in terms\n",
    "                parts = split(term, \" \")\n",
    "                if length(parts) == 2\n",
    "                    coefficient = tryparse(Float64, parts[1])\n",
    "                    variable = parts[2]\n",
    "                    if coefficient !== nothing && !isempty(variable)\n",
    "                        debug_print(debug, \"Adding to objective: \", variable, \" -> \", coefficient)\n",
    "                        c[variable] = coefficient  # Assign coefficients to the objective\n",
    "                        if !(haskey(vars, variable))\n",
    "                            vars[variable] = nothing  # Track variable order in vars\n",
    "                            variable_types[variable] = :Continuous  # Default variable type\n",
    "                            l[variable] = -Inf  # Default lower bound\n",
    "                            u[variable] = Inf   # Default upper bound\n",
    "                            debug_print(debug, \"Added variable to vars: \", variable)\n",
    "                        end\n",
    "                    end\n",
    "                end\n",
    "            end\n",
    "        end\n",
    "\n",
    "        # Parse constraints\n",
    "        if in_constraint_section\n",
    "            if startswith(line, \"Bounds\")\n",
    "                in_constraint_section = false\n",
    "                in_bounds_section = true\n",
    "                debug_print(debug, \"Entering bounds section.\")\n",
    "                continue\n",
    "            end\n",
    "\n",
    "            if contains(line, \"<=\") || contains(line, \">=\") || contains(line, \"=\")\n",
    "                terms = split(replace(strip(line), \"+\" => \"\"), \" \")\n",
    "                debug_print(debug, \"Constraint terms: \", terms)\n",
    "                row = length(b) + 1\n",
    "\n",
    "                # Parse each variable and coefficient in the constraint\n",
    "                i = 2  # Start after 'c1:' or 'c2:'\n",
    "                while i < length(terms) - 2\n",
    "                    coefficient = tryparse(Float64, terms[i])\n",
    "                    variable = terms[i+1]\n",
    "                    if coefficient !== nothing && !isempty(variable)\n",
    "                        col = findfirst(collect(keys(vars)) .== variable)\n",
    "                        if col === nothing\n",
    "                            vars[variable] = nothing\n",
    "                            variable_types[variable] = :Continuous\n",
    "                            l[variable] = -Inf\n",
    "                            u[variable] = Inf\n",
    "                            col = length(vars)\n",
    "                        end\n",
    "                        push!(A_data, coefficient)\n",
    "                        push!(A_row, row)\n",
    "                        push!(A_col, col)\n",
    "                        debug_print(debug, \"Added constraint coefficient: \", coefficient, \" for variable: \", variable)\n",
    "                    end\n",
    "                    i += 2  # Move to next variable-coefficient pair\n",
    "                end\n",
    "\n",
    "                # Parse the RHS of the constraint\n",
    "                rhs = tryparse(Float64, terms[end])\n",
    "                if rhs !== nothing\n",
    "                    push!(b, rhs)\n",
    "                    debug_print(debug, \"Added RHS: \", rhs)\n",
    "                    if contains(line, \"<=\")\n",
    "                        push!(constraint_types, 'L')\n",
    "                    elseif contains(line, \">=\")\n",
    "                        push!(constraint_types, 'G')\n",
    "                    else\n",
    "                        push!(constraint_types, 'E')\n",
    "                    end\n",
    "                end\n",
    "            end\n",
    "        end\n",
    "\n",
    "        # Parse bounds\n",
    "        if in_bounds_section\n",
    "            if startswith(line, \"End\")\n",
    "                debug_print(debug, \"Reached end of file.\")\n",
    "                break\n",
    "            end\n",
    "            terms = split(line, \" \")\n",
    "            debug_print(debug, \"Bounds terms: \", terms)\n",
    "\n",
    "            if length(terms) == 5\n",
    "                lower_bound = tryparse(Float64, terms[1])\n",
    "                upper_bound = tryparse(Float64, terms[5])\n",
    "                variable = terms[3]\n",
    "                if !(haskey(vars, variable))\n",
    "                    vars[variable] = nothing\n",
    "                    variable_types[variable] = :Continuous\n",
    "                    l[variable] = -Inf\n",
    "                    u[variable] = Inf\n",
    "                end\n",
    "                if lower_bound !== nothing && upper_bound !== nothing\n",
    "                    l[variable] = lower_bound\n",
    "                    u[variable] = upper_bound\n",
    "                    debug_print(debug, \"Added bounds: \", variable, \" -> [\", lower_bound, \", \", upper_bound, \"]\")\n",
    "                end\n",
    "            elseif length(terms) == 3\n",
    "                bound = tryparse(Float64, terms[1])\n",
    "                variable = terms[3]\n",
    "                if !(haskey(vars, variable))\n",
    "                    vars[variable] = nothing\n",
    "                    variable_types[variable] = :Continuous\n",
    "                    l[variable] = -Inf\n",
    "                    u[variable] = Inf\n",
    "                end\n",
    "                if bound !== nothing\n",
    "                    if startswith(line, \">= \")\n",
    "                        l[variable] = bound\n",
    "                    elseif startswith(line, \"<= \")\n",
    "                        u[variable] = bound\n",
    "                    end\n",
    "                    debug_print(debug, \"Added bound: \", variable, \" -> \", bound)\n",
    "                end\n",
    "            end\n",
    "        end\n",
    "    end\n",
    "\n",
    "    # Create consistent vectors for l, u, and c based on the order of vars\n",
    "    debug_print(debug, \"Final vars order: \", keys(vars))\n",
    "    c_vec = [get(c, var, 0.0) for var in keys(vars)]  # Ensure correct order for coefficients\n",
    "    l_vec = [l[var] for var in keys(vars)]\n",
    "    u_vec = [u[var] for var in keys(vars)]\n",
    "\n",
    "    debug_print(debug, \"Final objective vector (c): \", c_vec)\n",
    "    debug_print(debug, \"Final lower bounds (l): \", l_vec)\n",
    "    debug_print(debug, \"Final upper bounds (u): \", u_vec)\n",
    "\n",
    "    # Create sparse matrix for A\n",
    "    A = sparse(A_row, A_col, A_data, length(b), length(c_vec))\n",
    "    debug_print(debug, \"Sparse matrix A: \", A)\n",
    "\n",
    "    # Convert variable_types Dict to a Vector\n",
    "    variable_types_vec = [variable_types[var] for var in keys(vars)]\n",
    "\n",
    "    # Return the constructed MIPProblem\n",
    "    debug_print(debug, \"Returning MIPProblem.\")\n",
    "    return MIPProblem(is_minimize, c_vec, A, b, l_vec, u_vec, collect(keys(vars)), variable_types_vec, constraint_types)\n",
    "end\n"
   ]
  },
  {
   "cell_type": "code",
   "execution_count": 36,
   "metadata": {},
   "outputs": [
    {
     "name": "stdout",
     "output_type": "stream",
     "text": [
      "Starting read_lp_from_string...\n",
      "Parsed lines: SubString{String}[\"Maximize\", \" obj: 1 X1 + 1 X2\", \"Subject To\", \" c1: 2 X1 + 3 X2 <= 10\", \" c2: 2 X1 + X2 >= 5\", \"Bounds\", \" 0 <= X1 <= 10\", \" 0 <= X2 <= 1\", \"End\", \"\"]\n",
      "Objective is maximization.\n",
      "Processing line: Maximize\n",
      "Entering objective function section.\n",
      "Processing line: obj: 1 X1 + 1 X2\n",
      "Objective terms: SubString{String}[\"1 X1\", \"1 X2\"]\n",
      "Adding to objective: X1 -> 1.0\n",
      "Added variable to vars: X1\n",
      "Adding to objective: X2 -> 1.0\n",
      "Added variable to vars: X2\n",
      "Processing line: Subject To\n",
      "Finished objective function, entering constraints section.\n",
      "Processing line: c1: 2 X1 + 3 X2 <= 10\n",
      "Constraint terms: SubString{String}[\"c1:\", \"2\", \"X1\", \"+\", \"3\", \"X2\", \"<=\", \"10\"]\n",
      "Added constraint coefficient: 2.0 for variable: X1\n",
      "Added RHS: 10.0\n",
      "Processing line: c2: 2 X1 + X2 >= 5\n",
      "Constraint terms: SubString{String}[\"c2:\", \"2\", \"X1\", \"+\", \"X2\", \">=\", \"5\"]\n",
      "Added constraint coefficient: 2.0 for variable: X1\n",
      "Added RHS: 5.0\n",
      "Processing line: Bounds\n",
      "Entering bounds section.\n",
      "Processing line: 0 <= X1 <= 10\n",
      "Bounds terms: SubString{String}[\"0\", \"<=\", \"X1\", \"<=\", \"10\"]\n",
      "Processing line: 0 <= X2 <= 1\n",
      "Bounds terms: SubString{String}[\"0\", \"<=\", \"X2\", \"<=\", \"1\"]\n",
      "Processing line: End\n",
      "Reached end of file.\n",
      "Final vars order: [\"X1\", \"X2\", \"<=\"]\n",
      "Final objective vector (c): [1.0, 1.0, 0.0]\n",
      "Final lower bounds (l): [-Inf, -Inf, -Inf]\n",
      "Final upper bounds (u): [Inf, Inf, Inf]\n",
      "Sparse matrix A: sparse([1, 2], [1, 1], [2.0, 2.0], 2, 3)\n",
      "Returning MIPProblem.\n"
     ]
    },
    {
     "data": {
      "text/plain": [
       "MIPProblem(false, [1.0, 1.0, 0.0], sparse([1, 2], [1, 1], [2.0, 2.0], 2, 3), [10.0, 5.0], [-Inf, -Inf, -Inf], [Inf, Inf, Inf], [\"X1\", \"X2\", \"<=\"], [:Continuous, :Continuous, :Continuous], ['L', 'G'])"
      ]
     },
     "metadata": {},
     "output_type": "display_data"
    }
   ],
   "source": [
    "lp_string = \"\"\"\n",
    "Maximize\n",
    " obj: 1 X1 + 1 X2\n",
    "Subject To\n",
    " c1: 2 X1 + 3 X2 <= 10\n",
    " c2: 2 X1 + X2 >= 5\n",
    "Bounds\n",
    " 0 <= X1 <= 10\n",
    " 0 <= X2 <= 1\n",
    "End\n",
    "\"\"\"\n",
    "\n",
    "problem = read_lp_from_string(lp_string,debug=true)\n"
   ]
  },
  {
   "cell_type": "code",
   "execution_count": 23,
   "metadata": {},
   "outputs": [
    {
     "data": {
      "text/plain": [
       "MIPProblem(false, [1.0, 1.0], sparse([1, 2], [1, 1], [2.0, 2.0], 2, 2), [10.0, 5.0], [0.0, 0.0], [10.0, 1.0], [\"X1\", \"X2\"], [:Continuous, :Continuous], ['L', 'G'])"
      ]
     },
     "metadata": {},
     "output_type": "display_data"
    }
   ],
   "source": [
    "problem"
   ]
  },
  {
   "cell_type": "markdown",
   "metadata": {},
   "source": [
    "## Checking against Highs ones"
   ]
  },
  {
   "cell_type": "code",
   "execution_count": 25,
   "metadata": {},
   "outputs": [
    {
     "data": {
      "text/plain": [
       "\"../check/problems/ls_files/\""
      ]
     },
     "metadata": {},
     "output_type": "display_data"
    }
   ],
   "source": [
    "mps_folder_path = \"../check/problems/ls_files/\""
   ]
  },
  {
   "cell_type": "code",
   "execution_count": 26,
   "metadata": {},
   "outputs": [],
   "source": []
  }
 ],
 "metadata": {
  "kernelspec": {
   "display_name": "Julia 1.10.4",
   "language": "julia",
   "name": "julia-1.10"
  },
  "language_info": {
   "file_extension": ".jl",
   "mimetype": "application/julia",
   "name": "julia",
   "version": "1.10.4"
  }
 },
 "nbformat": 4,
 "nbformat_minor": 2
}
