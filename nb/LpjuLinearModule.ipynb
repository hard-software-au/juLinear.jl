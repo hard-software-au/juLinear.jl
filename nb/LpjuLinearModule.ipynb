{
 "cells": [
  {
   "cell_type": "markdown",
   "metadata": {},
   "source": [
    "# LPjuLinearModel"
   ]
  },
  {
   "cell_type": "code",
   "execution_count": 4,
   "metadata": {},
   "outputs": [
    {
     "data": {
      "text/plain": [
       "MathOptInterface"
      ]
     },
     "metadata": {},
     "output_type": "display_data"
    }
   ],
   "source": [
    "using LinearAlgebra\n",
    "using SparseArrays\n",
    "using Random\n",
    "using ArgParse\n",
    "using DataStructures\n",
    "using Test\n",
    "\n",
    "# JuMP\n",
    "using JuMP\n",
    "using MathOptInterface\n",
    "const MOI = MathOptInterface"
   ]
  },
  {
   "cell_type": "code",
   "execution_count": 13,
   "metadata": {},
   "outputs": [
    {
     "data": {
      "text/plain": [
       "revised_simplex"
      ]
     },
     "metadata": {},
     "output_type": "display_data"
    }
   ],
   "source": [
    "include(\"../src/problems/lp_problem_structs.jl\")\n",
    "include(\"../src/file_formats/lp_file_formater.jl\")\n",
    "include(\"../src/preprocess/lp_presolve.jl\")\n",
    "include(\"../src/preprocess/lp_standard_form_converter.jl\")\n",
    "include(\"../src/lp_revised_simplex.jl\")"
   ]
  },
  {
   "cell_type": "code",
   "execution_count": 6,
   "metadata": {},
   "outputs": [
    {
     "data": {
      "text/plain": [
       "\"../check/problems/mps_files/\""
      ]
     },
     "metadata": {},
     "output_type": "display_data"
    }
   ],
   "source": [
    "mps_folder_path = \"../check/problems/mps_files/\""
   ]
  },
  {
   "cell_type": "code",
   "execution_count": 7,
   "metadata": {},
   "outputs": [
    {
     "name": "stdout",
     "output_type": "stream",
     "text": [
      "NAME          BLEND\n",
      "\n",
      "OBJSENSE\n",
      " MAX\n",
      " \n",
      "ROWS\n",
      " N  PROF\n",
      " L  VVEG\n",
      " L  NVEG\n",
      " L  UHRD\n",
      " G  LHRD\n",
      " E  CONT\n",
      "COLUMNS\n",
      "    VEG01     PROF      -110.0    VVEG         1.0\n",
      "    VEG01     UHRD         8.8    LHRD         8.8\n",
      "    VEG01     CONT         1.0\n",
      "    VEG02     PROF      -120.0    VVEG         1.0\n",
      "    VEG02     UHRD         6.1    LHRD         6.1\n",
      "    VEG02     CONT         1.0\n",
      "    OIL01     PROF      -130.0    NVEG         1.0\n",
      "    OIL01     UHRD         2.0    LHRD         2.0\n",
      "    OIL01     CONT         1.0\n",
      "    OIL02     PROF      -110.0    NVEG         1.0\n",
      "    OIL02     UHRD         4.2    LHRD         4.2\n",
      "    OIL02     CONT         1.0\n",
      "    OIL03     PROF      -115.0    NVEG         1.0\n",
      "    OIL03     UHRD         5.0    LHRD         5.0\n",
      "    OIL03     CONT         1.0\n",
      "    PROD      PROF       150.0    UHRD        -6.0\n",
      "    PROD      LHRD        -3.0    CONT        -1.0\n",
      "RHS\n",
      "    RHS       VVEG       200.0\n",
      "    RHS       NVEG       250.0\n",
      "    RHS       UHRD         0.0\n",
      "    RHS       LHRD         0.0\n",
      "    RHS       CONT         0.0\n",
      "ENDATA\n"
     ]
    }
   ],
   "source": [
    "mps_string = read_file_to_string(mps_folder_path * \"blend.mps\")\n",
    "println(mps_string)"
   ]
  },
  {
   "cell_type": "code",
   "execution_count": 24,
   "metadata": {},
   "outputs": [
    {
     "data": {
      "text/plain": [
       "LPProblem(false, [4.0, 3.0, 1.0, 7.0, 6.0], sparse([1, 2, 3, 1, 2, 3, 1, 2, 3, 1, 2, 3, 1, 2, 3], [1, 1, 1, 2, 2, 2, 3, 3, 3, 4, 4, 4, 5, 5, 5], [1.0, 2.0, -3.0, 2.0, -1.0, 2.0, 3.0, 2.0, 1.0, 1.0, 2.0, -1.0, -3.0, 1.0, 2.0], 3, 5), [9.0, 10.0, 11.0], ['L', 'L', 'L'], [0.0, 0.0, 0.0, 0.0, 0.0], [Inf, Inf, Inf, Inf, Inf], [\"X1\", \"X2\", \"X3\", \"X4\", \"X5\"], [:Continuous, :Continuous, :Continuous, :Continuous, :Continuous])"
      ]
     },
     "metadata": {},
     "output_type": "display_data"
    }
   ],
   "source": [
    "lp = read_mps(mps_folder_path * \"ex_9-7.mps\")"
   ]
  },
  {
   "cell_type": "code",
   "execution_count": 16,
   "metadata": {},
   "outputs": [
    {
     "data": {
      "text/plain": [
       "PreprocessedLPProblem(LPProblem(false, [4.0, 3.0, 1.0, 7.0, 6.0], sparse([1, 2, 3, 1, 2, 3, 1, 2, 3, 1, 2, 3, 1, 2, 3], [1, 1, 1, 2, 2, 2, 3, 3, 3, 4, 4, 4, 5, 5, 5], [1.0, 2.0, -3.0, 2.0, -1.0, 2.0, 3.0, 2.0, 1.0, 1.0, 2.0, -1.0, -3.0, 1.0, 2.0], 3, 5), [9.0, 10.0, 11.0], ['L', 'L', 'L'], [0.0, 0.0, 0.0, 0.0, 0.0], [Inf, Inf, Inf, Inf, Inf], [\"X1\", \"X2\", \"X3\", \"X4\", \"X5\"], [:Continuous, :Continuous, :Continuous, :Continuous, :Continuous]), LPProblem(false, [4.0, 3.0, 1.0, 7.0, 6.0], sparse([1, 2, 3, 1, 2, 3, 1, 2, 3, 1, 2, 3, 1, 2, 3], [1, 1, 1, 2, 2, 2, 3, 3, 3, 4, 4, 4, 5, 5, 5], [1.0, 2.0, -3.0, 2.0, -1.0, 2.0, 3.0, 2.0, 1.0, 1.0, 2.0, -1.0, -3.0, 1.0, 2.0], 3, 5), [9.0, 10.0, 11.0], ['L', 'L', 'L'], [0.0, 0.0, 0.0, 0.0, 0.0], [Inf, Inf, Inf, Inf, Inf], [\"X1\", \"X2\", \"X3\", \"X4\", \"X5\"], [:Continuous, :Continuous, :Continuous, :Continuous, :Continuous]), Int64[], Int64[], Dict{Int64, Tuple{Int64, Float64}}(), Dict{String, Float64}(), Float64[], Float64[], false)"
      ]
     },
     "metadata": {},
     "output_type": "display_data"
    }
   ],
   "source": [
    "pre_lp = presolve_lp(lp)"
   ]
  },
  {
   "cell_type": "code",
   "execution_count": 17,
   "metadata": {},
   "outputs": [
    {
     "data": {
      "text/plain": [
       "(Dict(\"s_1\" => 0.0, \"X3\" => 0.0, \"X4\" => 0.0, \"s_3\" => 0.0, \"X5\" => 6.000000000000001, \"s_2\" => 0.0, \"X2\" => 10.000000000000002, \"X1\" => 7.000000000000001), 94.00000000000003)"
      ]
     },
     "metadata": {},
     "output_type": "display_data"
    }
   ],
   "source": [
    "revised_simplex(pre_lp)"
   ]
  },
  {
   "cell_type": "code",
   "execution_count": 20,
   "metadata": {},
   "outputs": [],
   "source": [
    "using BenchmarkTools\n",
    "using Profile\n",
    "using ProfileView"
   ]
  },
  {
   "cell_type": "code",
   "execution_count": 25,
   "metadata": {},
   "outputs": [
    {
     "data": {
      "text/plain": [
       "BenchmarkTools.Trial: 10000 samples with 1 evaluation.\n",
       " Range \u001b[90m(\u001b[39m\u001b[36m\u001b[1mmin\u001b[22m\u001b[39m … \u001b[35mmax\u001b[39m\u001b[90m):  \u001b[39m\u001b[36m\u001b[1m21.208 μs\u001b[22m\u001b[39m … \u001b[35m  6.579 ms\u001b[39m  \u001b[90m┊\u001b[39m GC \u001b[90m(\u001b[39mmin … max\u001b[90m): \u001b[39m0.00% … 25.29%\n",
       " Time  \u001b[90m(\u001b[39m\u001b[34m\u001b[1mmedian\u001b[22m\u001b[39m\u001b[90m):     \u001b[39m\u001b[34m\u001b[1m23.459 μs               \u001b[22m\u001b[39m\u001b[90m┊\u001b[39m GC \u001b[90m(\u001b[39mmedian\u001b[90m):    \u001b[39m0.00%\n",
       " Time  \u001b[90m(\u001b[39m\u001b[32m\u001b[1mmean\u001b[22m\u001b[39m ± \u001b[32mσ\u001b[39m\u001b[90m):   \u001b[39m\u001b[32m\u001b[1m29.088 μs\u001b[22m\u001b[39m ± \u001b[32m131.360 μs\u001b[39m  \u001b[90m┊\u001b[39m GC \u001b[90m(\u001b[39mmean ± σ\u001b[90m):  \u001b[39m5.23% ±  1.21%\n",
       "\n",
       "  \u001b[39m \u001b[39m \u001b[39m \u001b[39m \u001b[39m▁\u001b[39m▁\u001b[39m▁\u001b[39m▃\u001b[39m▅\u001b[39m▆\u001b[39m▆\u001b[39m█\u001b[39m█\u001b[34m█\u001b[39m\u001b[39m▇\u001b[39m▆\u001b[39m▆\u001b[39m▃\u001b[39m▂\u001b[39m▁\u001b[39m \u001b[39m \u001b[39m \u001b[39m \u001b[39m \u001b[39m \u001b[39m \u001b[39m \u001b[39m \u001b[39m \u001b[39m \u001b[39m \u001b[39m \u001b[39m \u001b[39m \u001b[39m \u001b[39m \u001b[39m \u001b[39m \u001b[39m \u001b[39m \u001b[39m \u001b[39m \u001b[39m \u001b[39m \u001b[39m \u001b[39m \u001b[32m \u001b[39m\u001b[39m \u001b[39m \u001b[39m \u001b[39m \u001b[39m \u001b[39m \u001b[39m \u001b[39m \u001b[39m \u001b[39m \u001b[39m \u001b[39m \u001b[39m \u001b[39m \n",
       "  \u001b[39m▂\u001b[39m▃\u001b[39m▄\u001b[39m▇\u001b[39m█\u001b[39m█\u001b[39m█\u001b[39m█\u001b[39m█\u001b[39m█\u001b[39m█\u001b[39m█\u001b[39m█\u001b[34m█\u001b[39m\u001b[39m█\u001b[39m█\u001b[39m█\u001b[39m█\u001b[39m█\u001b[39m█\u001b[39m█\u001b[39m█\u001b[39m▆\u001b[39m▅\u001b[39m▄\u001b[39m▄\u001b[39m▃\u001b[39m▃\u001b[39m▃\u001b[39m▃\u001b[39m▃\u001b[39m▃\u001b[39m▃\u001b[39m▂\u001b[39m▂\u001b[39m▃\u001b[39m▂\u001b[39m▂\u001b[39m▂\u001b[39m▂\u001b[39m▂\u001b[39m▂\u001b[39m▂\u001b[39m▂\u001b[39m▂\u001b[39m▂\u001b[39m▂\u001b[32m▂\u001b[39m\u001b[39m▂\u001b[39m▂\u001b[39m▂\u001b[39m▂\u001b[39m▂\u001b[39m▂\u001b[39m▂\u001b[39m▂\u001b[39m▁\u001b[39m▂\u001b[39m▂\u001b[39m▂\u001b[39m \u001b[39m▄\n",
       "  21.2 μs\u001b[90m         Histogram: frequency by time\u001b[39m         31.2 μs \u001b[0m\u001b[1m<\u001b[22m\n",
       "\n",
       " Memory estimate\u001b[90m: \u001b[39m\u001b[33m90.89 KiB\u001b[39m, allocs estimate\u001b[90m: \u001b[39m\u001b[33m515\u001b[39m."
      ]
     },
     "metadata": {},
     "output_type": "display_data"
    }
   ],
   "source": [
    "@benchmark revised_simplex(pre_lp)"
   ]
  },
  {
   "cell_type": "code",
   "execution_count": 22,
   "metadata": {},
   "outputs": [
    {
     "data": {
      "text/plain": [
       "Gtk4.GtkWindowLeaf(accessible-role=GTK_ACCESSIBLE_ROLE_APPLICATION, name=\"\", parent, root, width-request=-1, height-request=-1, visible=true, sensitive=true, can-focus=true, has-focus=false, can-target=true, focus-on-click=true, focusable=false, has-default=false, receives-default=false, cursor, has-tooltip=false, tooltip-markup=nothing, tooltip-text=nothing, opacity=1.000000, overflow=GTK_OVERFLOW_HIDDEN, halign=GTK_ALIGN_FILL, valign=GTK_ALIGN_FILL, margin-start=0, margin-end=0, margin-top=0, margin-bottom=0, hexpand=false, vexpand=false, hexpand-set=false, vexpand-set=false, scale-factor=2, css-name=\"window\", css-classes, layout-manager, title=\"Profile  -  14:33:14\", resizable=true, modal=false, default-width=800, default-height=600, destroy-with-parent=false, hide-on-close=false, icon-name=nothing, display, decorated=true, deletable=true, transient-for, application, default-widget, focus-widget, child, titlebar, handle-menubar-accel=true, is-active=false, suspended=false, startup-id, mnemonics-visible=false, focus-visible=false, maximized=false, fullscreened=false)"
      ]
     },
     "metadata": {},
     "output_type": "display_data"
    }
   ],
   "source": [
    "ProfileView.@profview revised_simplex(pre_lp)"
   ]
  },
  {
   "cell_type": "code",
   "execution_count": 23,
   "metadata": {},
   "outputs": [],
   "source": [
    "ProfileView.print()"
   ]
  },
  {
   "cell_type": "code",
   "execution_count": 26,
   "metadata": {},
   "outputs": [
    {
     "name": "stderr",
     "output_type": "stream",
     "text": [
      "\u001b[33m\u001b[1m┌ \u001b[22m\u001b[39m\u001b[33m\u001b[1mWarning: \u001b[22m\u001b[39mModule FlameGraphs with build ID fafbfcfd-1e23-1959-0006-45e6d7ea98f8 is missing from the cache.\n",
      "\u001b[33m\u001b[1m│ \u001b[22m\u001b[39mThis may mean FlameGraphs [08572546-2f56-4bcf-ba4e-bab62c3a3f89] does not support precompilation but is imported by a module that does.\n",
      "\u001b[33m\u001b[1m└ \u001b[22m\u001b[39m\u001b[90m@ Base loading.jl:1948\u001b[39m\n"
     ]
    }
   ],
   "source": [
    "using PProf"
   ]
  },
  {
   "cell_type": "code",
   "execution_count": 32,
   "metadata": {},
   "outputs": [
    {
     "name": "stderr",
     "output_type": "stream",
     "text": [
      "\u001b[32mAnalyzing 78 allocation samples... 100%|█████████████████| Time: 0:00:00\u001b[39m\u001b[K\n"
     ]
    },
    {
     "data": {
      "text/plain": [
       "\"alloc-profile.pb.gz\""
      ]
     },
     "metadata": {},
     "output_type": "display_data"
    }
   ],
   "source": [
    "Profile.Allocs.@profile revised_simplex(pre_lp)\n",
    "PProf.Allocs.pprof()"
   ]
  },
  {
   "cell_type": "code",
   "execution_count": 35,
   "metadata": {},
   "outputs": [
    {
     "data": {
      "text/plain": [
       "\"alloc-profile.pb.gz\""
      ]
     },
     "metadata": {},
     "output_type": "display_data"
    }
   ],
   "source": [
    "PProf.Allocs.pprof()\n"
   ]
  },
  {
   "cell_type": "markdown",
   "metadata": {},
   "source": [
    "include(\"src/problems/lp_problem_structs.jl\")\n",
    "include(\"src/file_formats/lp_file_formater.jl\")\n",
    "include(\"src/preprocess/lp_presolve.jl\")\n",
    "include(\"src/preprocess/lp_standard_form_converter.jl\")\n",
    "include(\"src/solvers/lp_revised_simplex.jl\")\n",
    "\n",
    "\n",
    "lp = read_mps(mps_folder_path * \"ex_9-7.mps\")\n",
    "\n",
    " pre_lp = presolve_lp(lp)\n",
    "\n",
    "Profile.Allocs.@profile for _ in 1:10\n",
    "    revised_simplex(pre_lp)\n",
    "end\n",
    "\n",
    "PProf.Allocs.pprof()"
   ]
  }
 ],
 "metadata": {
  "kernelspec": {
   "display_name": "Julia 1.10.5",
   "language": "julia",
   "name": "julia-1.10"
  },
  "language_info": {
   "file_extension": ".jl",
   "mimetype": "application/julia",
   "name": "julia",
   "version": "1.10.5"
  }
 },
 "nbformat": 4,
 "nbformat_minor": 2
}
