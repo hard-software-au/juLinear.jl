{
 "cells": [
  {
   "cell_type": "markdown",
   "metadata": {},
   "source": [
    "# Interior point methods"
   ]
  },
  {
   "cell_type": "markdown",
   "metadata": {},
   "source": []
  },
  {
   "cell_type": "code",
   "execution_count": 1,
   "metadata": {},
   "outputs": [],
   "source": [
    "using LinearAlgebra\n",
    "using SparseArrays\n",
    "\n",
    "# local modules\n",
    "push!(LOAD_PATH, realpath(\"../code\"))\n",
    "using lp_problem\n",
    "using lp_standard_form_converter\n",
    "using lp_read_mps"
   ]
  },
  {
   "cell_type": "code",
   "execution_count": 2,
   "metadata": {},
   "outputs": [],
   "source": [
    "# function read_file_to_string(filepath)\n",
    "#     mps_string = open(filepath, \"r\") do f\n",
    "#         read(f, String)\n",
    "#     end\n",
    "#     return mps_string\n",
    "# end"
   ]
  },
  {
   "cell_type": "code",
   "execution_count": null,
   "metadata": {},
   "outputs": [],
   "source": [
    "filepath =\"../../check/benchmarks/mps_files/test.mps\"\n",
    "println(read_file_to_string(filepath))"
   ]
  },
  {
   "cell_type": "code",
   "execution_count": null,
   "metadata": {},
   "outputs": [],
   "source": [
    "lp = read_mps_from_file_mip(\"../../check/benchmarks/mps_files/test.mps\")"
   ]
  },
  {
   "cell_type": "code",
   "execution_count": null,
   "metadata": {},
   "outputs": [],
   "source": [
    "print(read_mps_from_file(\"../../check/benchmarks/mps_files/test.mps\"))"
   ]
  },
  {
   "cell_type": "markdown",
   "metadata": {},
   "source": []
  },
  {
   "cell_type": "markdown",
   "metadata": {},
   "source": []
  },
  {
   "cell_type": "code",
   "execution_count": 6,
   "metadata": {},
   "outputs": [],
   "source": [
    "struct Parameters\n",
    "    maxIter::Int\n",
    "    tol::Float64\n",
    "    eta::Float64\n",
    "    verbose::Int\n",
    "end\n",
    "\n",
    "struct IPMSolver\n",
    "    mip_prob::MIPProblem\n",
    "    pars::Parameters\n",
    "    \n",
    "    function IPMSolver(mip_prob::MIPProblem)\n",
    "        return new(mip_prob, Parameters(100, 1e-6, 0.95, 1))\n",
    "    end\n",
    "    \n",
    "    function IPMSolver(mip_prob::MIPProblem, pars::Parameters)\n",
    "        return new(mip_prob, pars)\n",
    "    end\n",
    "    \n",
    "    function IPMSolver(A::SparseMatrixCSC{Float64, Int64}, b::Vector{Float64}, c::Vector{Float64}, l::Vector{Float64}, u::Vector{Float64}, vars::Vector{String}, variable_types::Vector{Symbol}, constraint_types::Vector{Char})\n",
    "        mip_prob = MIPProblem(true, c, A, b, l, u, vars, variable_types, constraint_types)\n",
    "        return new(mip_prob, Parameters(100, 1e-6, 0.95, 1))\n",
    "    end\n",
    "end\n"
   ]
  },
  {
   "cell_type": "code",
   "execution_count": null,
   "metadata": {},
   "outputs": [],
   "source": [
    "\n",
    "\n",
    "# Interior Point Method for solving LPProblem\n",
    "function interior_point_solver(lp::MIPProblem; tol=1e-6, max_iter=100)\n",
    "    # Unpack problem data\n",
    "    c = lp.is_minimize ? lp.c : -lp.c  # Adjust for maximization problems\n",
    "    A = lp.A\n",
    "    b = lp.b\n",
    "    m, n = size(A)\n",
    "\n",
    "    # Initialize variables\n",
    "    x = ones(n)  # Primal variables (start with feasible guess)\n",
    "    s = ones(n)  # Slack variables\n",
    "    y = zeros(m)  # Dual variables\n",
    "    μ = 1.0  # Barrier parameter\n",
    "\n",
    "    for iter in 1:max_iter\n",
    "        # Compute residuals\n",
    "        r_dual = A' * y + s - c\n",
    "        r_cent = s .* x - μ * ones(n)\n",
    "        r_pri = A * x - b\n",
    "\n",
    "        # Check convergence\n",
    "        if norm(r_dual, Inf) < tol && norm(r_pri, Inf) < tol && norm(r_cent, Inf) < tol\n",
    "            println(\"Converged in $iter iterations.\")\n",
    "            return x\n",
    "        end\n",
    "\n",
    "        # Form the KKT matrix\n",
    "        D_inv = Diagonal(1.0 ./ x)\n",
    "        M = A * D_inv * A'\n",
    "        rhs = -(r_pri + A * D_inv * (r_cent - D_inv * r_dual))\n",
    "\n",
    "        # Solve for the dual variables\n",
    "        Δy = M \\ rhs\n",
    "\n",
    "        # Solve for the primal and slack variables\n",
    "        Δs = r_dual - A' * Δy\n",
    "        Δx = -x .+ D_inv * (r_cent - Δs .* x)\n",
    "\n",
    "        # Line search for feasibility\n",
    "        α = 1.0\n",
    "        for i in 1:n\n",
    "            if Δx[i] < 0\n",
    "                α = min(α, -x[i] / Δx[i])\n",
    "            end\n",
    "            if Δs[i] < 0\n",
    "                α = min(α, -s[i] / Δs[i])\n",
    "            end\n",
    "        end\n",
    "        α = 0.99 * α  # Take a step just inside the feasible region\n",
    "\n",
    "        # Update variables\n",
    "        x += α * Δx\n",
    "        s += α * Δs\n",
    "        y += α * Δy\n",
    "\n",
    "        # Update the barrier parameter\n",
    "        μ *= 0.9  # Reduce barrier parameter\n",
    "    end\n",
    "\n",
    "    println(\"Maximum iterations reached without convergence.\")\n",
    "    return x\n",
    "end\n"
   ]
  },
  {
   "cell_type": "code",
   "execution_count": null,
   "metadata": {},
   "outputs": [],
   "source": [
    "# # Example usage\n",
    "# A = sparse([1.0 2.0; 3.0 4.0])\n",
    "# b = [1.0, 1.0]\n",
    "# c = [-1.0, -2.0]\n",
    "# l = [0.0, 0.0]\n",
    "# u = [Inf, Inf]\n",
    "# vars = [\"x1\", \"x2\"]\n",
    "# variable_types = [:Continuous, :Continuous]\n",
    "# constraint_types = ['L', 'L']\n",
    "\n",
    "# lp = LPProblem(true, c, A, b, l, u, vars, variable_types, constraint_types)\n",
    "\n",
    "# Solve the LP problem\n",
    "solution = interior_point_solver(lp)\n",
    "println(\"Optimal solution: \", solution)\n"
   ]
  },
  {
   "cell_type": "code",
   "execution_count": null,
   "metadata": {},
   "outputs": [],
   "source": [
    "# Solve the LP problem\n",
    "solution = interior_point_solver(lp, tol=1e-8, max_iter=5000)\n",
    "println(\"Optimal solution: \", solution)"
   ]
  },
  {
   "cell_type": "markdown",
   "metadata": {},
   "source": [
    "## "
   ]
  },
  {
   "cell_type": "markdown",
   "metadata": {},
   "source": []
  },
  {
   "cell_type": "markdown",
   "metadata": {},
   "source": [
    "# References\n",
    "\n",
    "Karmarkar, N. A new polynomial-time algorithm for linear programming. Combinatorica 4, 373–395 (1984). https://doi.org/10.1007/BF02579150\n",
    "\n",
    "\n",
    "```bibtex\n",
    "@book{SIAMB0000215,\n",
    " title={Primal-dual interior-point methods},\n",
    " author={Wright, Stephen J.},\n",
    " year={1997},\n",
    " publisher={Society for Industrial and Applied Mathematics},\n",
    " pages={310},\n",
    " isbn={9780898713824},\n",
    " url={https://portal-igpublish-com.ezproxy.newcastle.edu.au/iglibrary/search/SIAMB0000215.html}\n",
    "}\n",
    "```\n",
    "\n",
    "Megiddo, N. On the complexity of computing an approximate solution for combinatorial optimization problems. SIAM Journal on Computing 18, 1189-1198 (1989). https://doi.org/10.1137/0218074\n",
    "\n",
    "Forsgren, A., & Gill, P. E. (2007). A Matlab Implementation of a Primal-Dual Interior Point Method for Linear Programming. Computational Optimization and Applications, 36(2-3), 209-241. https://doi.org/10.1007/s10589-006-9005-9"
   ]
  },
  {
   "cell_type": "markdown",
   "metadata": {},
   "source": []
  }
 ],
 "metadata": {
  "kernelspec": {
   "display_name": "Julia 1.10.4",
   "language": "julia",
   "name": "julia-1.10"
  },
  "language_info": {
   "file_extension": ".jl",
   "mimetype": "application/julia",
   "name": "julia",
   "version": "1.10.4"
  }
 },
 "nbformat": 4,
 "nbformat_minor": 2
}
