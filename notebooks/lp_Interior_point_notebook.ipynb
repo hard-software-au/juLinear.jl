{
 "cells": [
  {
   "cell_type": "markdown",
   "metadata": {},
   "source": [
    "# Interior point methods"
   ]
  },
  {
   "cell_type": "markdown",
   "metadata": {},
   "source": []
  },
  {
   "cell_type": "code",
   "execution_count": 17,
   "metadata": {},
   "outputs": [],
   "source": [
    "using LinearAlgebra\n",
    "using SparseArrays\n",
    "\n",
    "# local modules\n",
    "push!(LOAD_PATH, realpath(\"../code\"))\n",
    "using lp_problem\n",
    "using lp_read_mps_mip"
   ]
  },
  {
   "cell_type": "code",
   "execution_count": 22,
   "metadata": {},
   "outputs": [
    {
     "data": {
      "text/plain": [
       "read_file_to_string (generic function with 1 method)"
      ]
     },
     "execution_count": 22,
     "metadata": {},
     "output_type": "execute_result"
    }
   ],
   "source": [
    "function read_file_to_string(filepath)\n",
    "    mps_string = open(filepath, \"r\") do f\n",
    "        read(f, String)\n",
    "    end\n",
    "    return mps_string\n",
    "end"
   ]
  },
  {
   "cell_type": "code",
   "execution_count": 24,
   "metadata": {},
   "outputs": [
    {
     "name": "stdout",
     "output_type": "stream",
     "text": [
      "NAME          BLEND\n",
      "\n",
      "OBJSENSE\n",
      " MAX\n",
      " \n",
      "ROWS\n",
      " N  PROF\n",
      " L  VVEG\n",
      " L  NVEG\n",
      " L  UHRD\n",
      " G  LHRD\n",
      " E  CONT\n",
      "COLUMNS\n",
      "    VEG01     PROF      -110.0    VVEG         1.0\n",
      "    VEG01     UHRD         8.8    LHRD         8.8\n",
      "    VEG01     CONT         1.0\n",
      "    VEG02     PROF      -120.0    VVEG         1.0\n",
      "    VEG02     UHRD         6.1    LHRD         6.1\n",
      "    VEG02     CONT         1.0\n",
      "    OIL01     PROF      -130.0    NVEG         1.0\n",
      "    OIL01     UHRD         2.0    LHRD         2.0\n",
      "    OIL01     CONT         1.0\n",
      "    OIL02     PROF      -110.0    NVEG         1.0\n",
      "    OIL02     UHRD         4.2    LHRD         4.2\n",
      "    OIL02     CONT         1.0\n",
      "    OIL03     PROF      -115.0    NVEG         1.0\n",
      "    OIL03     UHRD         5.0    LHRD         5.0\n",
      "    OIL03     CONT         1.0\n",
      "    PROD      PROF       150.0    UHRD        -6.0\n",
      "    PROD      LHRD        -3.0    CONT        -1.0\n",
      "RHS\n",
      "    RHS       VVEG       200.0\n",
      "    RHS       NVEG       250.0\n",
      "    RHS       UHRD         0.0\n",
      "    RHS       LHRD         0.0\n",
      "    RHS       CONT         0.0\n",
      "ENDATA\n"
     ]
    }
   ],
   "source": [
    "filepath =\"../../check/benchmarks/mps_files/test.mps\"\n",
    "println(read_file_to_string(filepath))"
   ]
  },
  {
   "cell_type": "code",
   "execution_count": 11,
   "metadata": {},
   "outputs": [
    {
     "data": {
      "text/plain": [
       "MIPProblem(false, [-110.0, -120.0, -130.0, -110.0, -115.0, 150.0], sparse([1, 3, 4, 5, 1, 3, 4, 5, 2, 3  …  3, 4, 5, 2, 3, 4, 5, 3, 4, 5], [1, 1, 1, 1, 2, 2, 2, 2, 3, 3  …  4, 4, 4, 5, 5, 5, 5, 6, 6, 6], [1.0, 8.8, -8.8, 1.0, 1.0, 6.1, -6.1, 1.0, 1.0, 2.0  …  4.2, -4.2, 1.0, 1.0, 5.0, -5.0, 1.0, -6.0, 3.0, -1.0], 5, 6), [200.0, 250.0, 0.0, -0.0, 0.0], [0.0, 0.0, 0.0, 0.0, 0.0, 0.0], [Inf, Inf, Inf, Inf, Inf, Inf], [\"VEG01\", \"VEG02\", \"OIL01\", \"OIL02\", \"OIL03\", \"PROD\"], [:Continuous, :Continuous, :Continuous, :Continuous, :Continuous, :Continuous], ['L', 'L', 'L', 'G', 'E'])"
      ]
     },
     "execution_count": 11,
     "metadata": {},
     "output_type": "execute_result"
    }
   ],
   "source": [
    "lp = read_mps_from_file(\"../../benchmarks/mps_files/test.mps\")"
   ]
  },
  {
   "cell_type": "code",
   "execution_count": 15,
   "metadata": {},
   "outputs": [
    {
     "data": {
      "text/plain": [
       "interior_point_solver (generic function with 2 methods)"
      ]
     },
     "execution_count": 15,
     "metadata": {},
     "output_type": "execute_result"
    }
   ],
   "source": [
    "\n",
    "\n",
    "# Interior Point Method for solving LPProblem\n",
    "function interior_point_solver(lp::MIPProblem; tol=1e-6, max_iter=100)\n",
    "    # Unpack problem data\n",
    "    c = lp.is_minimize ? lp.c : -lp.c  # Adjust for maximization problems\n",
    "    A = lp.A\n",
    "    b = lp.b\n",
    "    m, n = size(A)\n",
    "\n",
    "    # Initialize variables\n",
    "    x = ones(n)  # Primal variables (start with feasible guess)\n",
    "    s = ones(n)  # Slack variables\n",
    "    y = zeros(m)  # Dual variables\n",
    "    μ = 1.0  # Barrier parameter\n",
    "\n",
    "    for iter in 1:max_iter\n",
    "        # Compute residuals\n",
    "        r_dual = A' * y + s - c\n",
    "        r_cent = s .* x - μ * ones(n)\n",
    "        r_pri = A * x - b\n",
    "\n",
    "        # Check convergence\n",
    "        if norm(r_dual, Inf) < tol && norm(r_pri, Inf) < tol && norm(r_cent, Inf) < tol\n",
    "            println(\"Converged in $iter iterations.\")\n",
    "            return x\n",
    "        end\n",
    "\n",
    "        # Form the KKT matrix\n",
    "        D_inv = Diagonal(1.0 ./ x)\n",
    "        M = A * D_inv * A'\n",
    "        rhs = -(r_pri + A * D_inv * (r_cent - D_inv * r_dual))\n",
    "\n",
    "        # Solve for the dual variables\n",
    "        Δy = M \\ rhs\n",
    "\n",
    "        # Solve for the primal and slack variables\n",
    "        Δs = r_dual - A' * Δy\n",
    "        Δx = -x .+ D_inv * (r_cent - Δs .* x)\n",
    "\n",
    "        # Line search for feasibility\n",
    "        α = 1.0\n",
    "        for i in 1:n\n",
    "            if Δx[i] < 0\n",
    "                α = min(α, -x[i] / Δx[i])\n",
    "            end\n",
    "            if Δs[i] < 0\n",
    "                α = min(α, -s[i] / Δs[i])\n",
    "            end\n",
    "        end\n",
    "        α = 0.99 * α  # Take a step just inside the feasible region\n",
    "\n",
    "        # Update variables\n",
    "        x += α * Δx\n",
    "        s += α * Δs\n",
    "        y += α * Δy\n",
    "\n",
    "        # Update the barrier parameter\n",
    "        μ *= 0.9  # Reduce barrier parameter\n",
    "    end\n",
    "\n",
    "    println(\"Maximum iterations reached without convergence.\")\n",
    "    return x\n",
    "end\n"
   ]
  },
  {
   "cell_type": "code",
   "execution_count": 16,
   "metadata": {},
   "outputs": [
    {
     "name": "stdout",
     "output_type": "stream",
     "text": [
      "Maximum iterations reached without convergence.\n",
      "Optimal solution: [0.6449107699107709, 1.7394068374694456, 1.9575822029873267, 0.9862445276585994, 0.8123908145697386, 1.9963235303711915]\n"
     ]
    }
   ],
   "source": [
    "# # Example usage\n",
    "# A = sparse([1.0 2.0; 3.0 4.0])\n",
    "# b = [1.0, 1.0]\n",
    "# c = [-1.0, -2.0]\n",
    "# l = [0.0, 0.0]\n",
    "# u = [Inf, Inf]\n",
    "# vars = [\"x1\", \"x2\"]\n",
    "# variable_types = [:Continuous, :Continuous]\n",
    "# constraint_types = ['L', 'L']\n",
    "\n",
    "# lp = LPProblem(true, c, A, b, l, u, vars, variable_types, constraint_types)\n",
    "\n",
    "# Solve the LP problem\n",
    "solution = interior_point_solver(lp)\n",
    "println(\"Optimal solution: \", solution)\n"
   ]
  },
  {
   "cell_type": "code",
   "execution_count": null,
   "metadata": {},
   "outputs": [],
   "source": [
    "# Solve the LP problem\n",
    "solution = interior_point_solver(lp, tol=1e-8, max_iter=5000)\n",
    "println(\"Optimal solution: \", solution)"
   ]
  },
  {
   "cell_type": "code",
   "execution_count": null,
   "metadata": {},
   "outputs": [],
   "source": []
  },
  {
   "cell_type": "markdown",
   "metadata": {},
   "source": []
  },
  {
   "cell_type": "markdown",
   "metadata": {},
   "source": [
    "# References\n",
    "\n",
    "Karmarkar, N. A new polynomial-time algorithm for linear programming. Combinatorica 4, 373–395 (1984). https://doi.org/10.1007/BF02579150\n",
    "\n",
    "\n",
    "```bibtex\n",
    "@book{SIAMB0000215,\n",
    " title={Primal-dual interior-point methods},\n",
    " author={Wright, Stephen J.},\n",
    " year={1997},\n",
    " publisher={Society for Industrial and Applied Mathematics},\n",
    " pages={310},\n",
    " isbn={9780898713824},\n",
    " url={https://portal-igpublish-com.ezproxy.newcastle.edu.au/iglibrary/search/SIAMB0000215.html}\n",
    "}\n",
    "```\n",
    "\n",
    "Megiddo, N. On the complexity of computing an approximate solution for combinatorial optimization problems. SIAM Journal on Computing 18, 1189-1198 (1989). https://doi.org/10.1137/0218074\n",
    "\n",
    "Forsgren, A., & Gill, P. E. (2007). A Matlab Implementation of a Primal-Dual Interior Point Method for Linear Programming. Computational Optimization and Applications, 36(2-3), 209-241. https://doi.org/10.1007/s10589-006-9005-9"
   ]
  },
  {
   "cell_type": "markdown",
   "metadata": {},
   "source": []
  }
 ],
 "metadata": {
  "kernelspec": {
   "display_name": "Julia 1.7.2",
   "language": "julia",
   "name": "julia-1.7"
  },
  "language_info": {
   "file_extension": ".jl",
   "mimetype": "application/julia",
   "name": "julia",
   "version": "1.7.2"
  }
 },
 "nbformat": 4,
 "nbformat_minor": 2
}
