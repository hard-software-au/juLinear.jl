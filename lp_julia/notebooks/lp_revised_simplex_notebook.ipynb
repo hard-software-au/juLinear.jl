{
 "cells": [
  {
   "cell_type": "markdown",
   "metadata": {},
   "source": [
    "# The revised simplex method"
   ]
  },
  {
   "cell_type": "markdown",
   "metadata": {},
   "source": [
    "## Table of contents"
   ]
  },
  {
   "cell_type": "markdown",
   "metadata": {},
   "source": []
  },
  {
   "cell_type": "code",
   "execution_count": 6,
   "metadata": {},
   "outputs": [
    {
     "name": "stderr",
     "output_type": "stream",
     "text": [
      "┌ Info: Precompiling lp_constants [top-level]\n",
      "└ @ Base loading.jl:1423\n",
      "┌ Info: Precompiling lp_utils [top-level]\n",
      "└ @ Base loading.jl:1423\n",
      "┌ Info: Precompiling lp_problem [top-level]\n",
      "└ @ Base loading.jl:1423\n",
      "┌ Info: Precompiling lp_read_mps [top-level]\n",
      "└ @ Base loading.jl:1423\n"
     ]
    }
   ],
   "source": [
    "using LinearAlgebra\n",
    "using SparseArrays\n",
    "using SuiteSparse\n",
    "using Random\n",
    "using ArgParse\n",
    "\n",
    "push!(LOAD_PATH, realpath(\"../julia_files\"))\n",
    "\n",
    "using lp_constants\n",
    "using lp_utils\n",
    "using lp_problem\n",
    "using lp_read_mps\n",
    "\n",
    "using BenchmarkTools\n",
    "using Test"
   ]
  },
  {
   "cell_type": "code",
   "execution_count": 5,
   "metadata": {},
   "outputs": [
    {
     "name": "stdout",
     "output_type": "stream",
     "text": [
      "/Users/roryyarr/Desktop/Linear Programming/lp_code/lp_julia/notebooks\n"
     ]
    }
   ],
   "source": [
    "println(pwd())\n"
   ]
  },
  {
   "cell_type": "code",
   "execution_count": null,
   "metadata": {},
   "outputs": [],
   "source": [
    "# Define the PreprocessedLPProblem struct\n",
    "struct PreprocessedLPProblem\n",
    "    original_problem::LPProblem\n",
    "    reduced_problem::LPProblem\n",
    "    removed_rows::Vector{Int}\n",
    "    removed_cols::Vector{Int}\n",
    "    row_ratios::Dict{Int, Tuple{Int, Float64}}\n",
    "end"
   ]
  },
  {
   "cell_type": "code",
   "execution_count": null,
   "metadata": {},
   "outputs": [],
   "source": [
    "function convert_to_standard_form(preprocessed_lp::PreprocessedLPProblem)\n",
    "    lp = preprocessed_lp.reduced_problem\n",
    "    c, A, b, l, u = lp.c, lp.A, lp.b, lp.l, lp.u\n",
    "    m, n = size(A)\n",
    "    \n",
    "    # Handle lower and upper bounds\n",
    "    for i in 1:n\n",
    "        if l[i] > -Inf\n",
    "            A = [A; zeros(1, n)]\n",
    "            A[end, i] = -1\n",
    "            push!(b, -l[i])\n",
    "            push!(lp.constraint_types, 'L')\n",
    "        end\n",
    "        if u[i] < Inf\n",
    "            A = [A; zeros(1, n)]\n",
    "            A[end, i] = 1\n",
    "            push!(b, u[i])\n",
    "            push!(lp.constraint_types, 'L')\n",
    "        end\n",
    "    end\n",
    "    \n",
    "    m, n = size(A)\n",
    "    new_A = spzeros(eltype(A), m, n + m)\n",
    "    new_b = copy(b)\n",
    "    new_c = [c; zeros(m)]\n",
    "    \n",
    "    for i in 1:m\n",
    "        if lp.constraint_types[i] == 'L'\n",
    "            new_A[i, :] = [A[i, :]; zeros(i-1); 1; zeros(m-i)]\n",
    "        elseif lp.constraint_types[i] == 'G'\n",
    "            new_A[i, :] = [-A[i, :]; zeros(i-1); 1; zeros(m-i)]\n",
    "            new_b[i] = -new_b[i]\n",
    "        elseif lp.constraint_types[i] == 'E'\n",
    "            new_A[i, :] = [A[i, :]; zeros(m)]\n",
    "        end\n",
    "    end\n",
    "    \n",
    "    if !lp.is_minimize\n",
    "        new_c = -new_c\n",
    "    end\n",
    "\n",
    "    # Update the reduced LPProblem within PreprocessedLPProblem\n",
    "    reduced_lp = LPProblem(lp.is_minimize, new_c, new_A, new_b, lp.l, lp.u, lp.vars, lp.constraint_types)\n",
    "\n",
    "    return PreprocessedLPProblem(preprocessed_lp.original_problem, reduced_lp, preprocessed_lp.removed_rows, preprocessed_lp.removed_cols, preprocessed_lp.row_ratios)\n",
    "end\n"
   ]
  }
 ],
 "metadata": {
  "kernelspec": {
   "display_name": "Julia 1.7.2",
   "language": "julia",
   "name": "julia-1.7"
  },
  "language_info": {
   "file_extension": ".jl",
   "mimetype": "application/julia",
   "name": "julia",
   "version": "1.7.2"
  }
 },
 "nbformat": 4,
 "nbformat_minor": 2
}
