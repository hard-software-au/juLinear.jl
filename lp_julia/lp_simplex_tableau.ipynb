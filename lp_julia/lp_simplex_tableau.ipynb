{
 "cells": [
  {
   "cell_type": "code",
   "execution_count": 1,
   "metadata": {},
   "outputs": [
    {
     "data": {
      "text/plain": [
       "\"NAME          EXAMPLE\\nROWS\\n N  COST\\n L  C1\\n L  C2\\n L  C3\\nCOLUMNS\\n    x1        COST       3\\n    x1        C1         1\\n    x1        C2         1\\n    x2        COST       2\\n    x2        C1         1\\n    x2        C3         1\\nRHS\\n    RHS       C1         4\\n    RHS       C2         2\\n    RHS       C3         3\\nBOUNDS\\n UP BND       x1         2\\n UP BND       x2         3\\nENDATA\\n\""
      ]
     },
     "metadata": {},
     "output_type": "display_data"
    }
   ],
   "source": [
    "#\n",
    "# Simple example of a Julia linear pogramming model\n",
    "#\n",
    "\n",
    "#\n",
    "\n",
    " \n",
    "using LinearAlgebra\n",
    "\n",
    "const MPS_EXAMPLE::String = \"\"\"\n",
    "NAME          EXAMPLE\n",
    "ROWS\n",
    " N  COST\n",
    " L  C1\n",
    " L  C2\n",
    " L  C3\n",
    "COLUMNS\n",
    "    x1        COST       3\n",
    "    x1        C1         1\n",
    "    x1        C2         1\n",
    "    x2        COST       2\n",
    "    x2        C1         1\n",
    "    x2        C3         1\n",
    "RHS\n",
    "    RHS       C1         4\n",
    "    RHS       C2         2\n",
    "    RHS       C3         3\n",
    "BOUNDS\n",
    " UP BND       x1         2\n",
    " UP BND       x2         3\n",
    "ENDATA\n",
    "\"\"\""
   ]
  },
  {
   "cell_type": "markdown",
   "metadata": {},
   "source": [
    "For the example provided:\n",
    "\n",
    "Objective function coefficients: \n",
    "$c = [3, 2]$\n",
    "\n",
    "Constraints matrix: \n",
    "$ A = \\left [ \\begin{matrix} \n",
    "1 & 1 \\\\ \n",
    "1 & 0 \\\\ \n",
    "0 & 1 \n",
    "\\end{matrix} \\right ] $\n",
    "\n",
    "Right-hand side vector: \n",
    "$b = [4, 2, 3]$"
   ]
  },
  {
   "cell_type": "code",
   "execution_count": 2,
   "metadata": {},
   "outputs": [
    {
     "data": {
      "text/plain": [
       "simplex (generic function with 1 method)"
      ]
     },
     "metadata": {},
     "output_type": "display_data"
    }
   ],
   "source": [
    "function simplex(c, A, b)\n",
    "    m, n = size(A) # Get the number of constraints (m) and the number of variables (n)\n",
    "    \n",
    "    # println(A)\n",
    "    \n",
    "    tableau = hcat(A, Matrix{Float64}(I, m, m), b) # Create the initial tableau by combining A, an identity matrix for slack variables, and the right-hand side vector b\n",
    "    \n",
    "    # println(tableau)\n",
    "    \n",
    "    tableau = vcat(tableau, hcat(c', zeros(1, m + 1))) # Add the objective function row to the tableau\n",
    "    \n",
    "    # println(tableau)\n",
    "    \n",
    "    while any(tableau[end, 1:end-1] .> 0) # While there are positive coefficients in the objective function row\n",
    "        col = findmax(tableau[end, 1:end-1])[2] # Identify the entering variable (column with the most positive coefficient)\n",
    "        if all(tableau[1:end-1, col] .<= 0) # Check if the problem is unbounded\n",
    "            error(\"Unbounded solution\") # If all entries in the column are non-positive, the solution is unbounded\n",
    "        end\n",
    "        ratios = tableau[1:end-1, end] ./ tableau[1:end-1, col] # Compute the ratios of the right-hand side to the pivot column\n",
    "        ratios[ratios .<= 0] .= Inf # Ignore non-positive ratios by setting them to infinity\n",
    "        row = argmin(ratios) # Identify the pivot row (the row with the minimum positive ratio)\n",
    "        \n",
    "        tableau[row, :] /= tableau[row, col] # Normalize the pivot row\n",
    "        for i in 1:size(tableau, 1) # Perform row operations to zero out the other entries in the pivot column\n",
    "            if i != row\n",
    "                tableau[i, :] -= tableau[i, col] * tableau[row, :] # Update the row by subtracting the pivot row\n",
    "            end\n",
    "        end\n",
    "    end\n",
    "    \n",
    "    solution = zeros(n) # Initialize the solution vector\n",
    "    for j in 1:n # Extract the solution for the original variables\n",
    "        column = tableau[1:end-1, j]\n",
    "        if sum(column .== 1) == 1 && sum(column .== 0) == m - 1 # Check if the column corresponds to a basic variable\n",
    "            row = findfirst(column .== 1) # Find the row index of the basic variable\n",
    "            solution[j] = tableau[row, end] # Set the value of the basic variable in the solution\n",
    "        end\n",
    "    end\n",
    "    \n",
    "    return solution, tableau[end, end] # Return the optimal solution and the maximum value of the objective function\n",
    "end\n"
   ]
  },
  {
   "cell_type": "code",
   "execution_count": 4,
   "metadata": {},
   "outputs": [
    {
     "name": "stdout",
     "output_type": "stream",
     "text": [
      "\n",
      "Execution time: 2.2708e-5 seconds\n",
      "Optimal solution: [2.0, 2.0]\n",
      "Maximum value: -10.0\n"
     ]
    }
   ],
   "source": [
    "# Example problem\n",
    "\n",
    "c = [3.0, 2.0]\n",
    "A = [1.0 1.0; 1.0 0.0; 0.0 1.0]\n",
    "b = [4.0, 2.0, 3.0]\n",
    "\n",
    "execution_time = @elapsed solution, maximum_value = simplex(c, A, b)\n",
    "println(\"\\nExecution time: $execution_time seconds\")\n",
    "\n",
    "println(\"Optimal solution: \", solution)\n",
    "println(\"Maximum value: \", maximum_value)"
   ]
  }
 ],
 "metadata": {
  "kernelspec": {
   "display_name": "Julia 1.10.4",
   "language": "julia",
   "name": "julia-1.10"
  },
  "language_info": {
   "file_extension": ".jl",
   "mimetype": "application/julia",
   "name": "julia",
   "version": "1.10.4"
  }
 },
 "nbformat": 4,
 "nbformat_minor": 2
}
