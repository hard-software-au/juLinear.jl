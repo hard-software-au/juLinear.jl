{
 "cells": [
  {
   "cell_type": "code",
   "execution_count": null,
   "metadata": {},
   "outputs": [],
   "source": [
    "#\n",
    "# jupyter notebook to analyse git logs produced in this format:\n",
    "#   git log --all --numstat --date=short --pretty=format:'--%h--%ad--%aN' --no-renames > highs_logs.txt\n",
    "#\n",
    "# The file counts are produced by the following command:\n",
    "#   cloc ./ --unix --by-file --csv --quiet --report-file=highs_complexity.csv\n",
    "#\n",
    "\n",
    "import os\n",
    "import sys\n",
    "import argparse\n",
    "import csv\n",
    "\n",
    "GIT_LOG_SEPARATOR = '--'\n",
    "\n",
    "GIT_LOG_FILEPATH = \"/Users/hjm/Documents/HiGHS/lp_code/HiGHS-repo/highs_logs.txt\"\n",
    "CLOC_FILEPATH = \"/Users/hjm/Documents/HiGHS/lp_code/HiGHS-repo/highs_complexity.csv\"\n",
    "\n",
    "EXCLUDED_AUTHORS = [\"Documenter.jl\"]\n",
    "EXCLUDED_FILE_EXTENSIONS = [\".cmake\", \".html\", \".make\"]\n",
    "EXCLUDED_PATH_STARTS = [\"brl\", \".github\"]"
   ]
  },
  {
   "cell_type": "code",
   "execution_count": null,
   "metadata": {},
   "outputs": [],
   "source": [
    "def parse_git_log(file_path):\n",
    "    file_revisions = {}\n",
    "    current_commit = None\n",
    "\n",
    "    with open(file_path, \"r\") as file:\n",
    "        for line in file:\n",
    "            line = line.strip()\n",
    "            if line.startswith(GIT_LOG_SEPARATOR):\n",
    "                # New commit\n",
    "                _, commit_hash, commit_date, commit_author = line.split(GIT_LOG_SEPARATOR)\n",
    "                if commit_author not in EXCLUDED_AUTHORS:\n",
    "                    current_commit = True\n",
    "                else:\n",
    "                    current_commit = False\n",
    "            elif current_commit:\n",
    "                # File entry\n",
    "                no_values = len(line.rsplit(maxsplit=2))\n",
    "                if no_values == 3:\n",
    "                    no_added, no_deleted, filepath = line.rsplit(maxsplit=2)\n",
    "                    _, extension = os.path.splitext(filepath)\n",
    "                    extension = extension.lower()\n",
    "                    if (extension not in EXCLUDED_FILE_EXTENSIONS) and (\n",
    "                        not any(\n",
    "                            filepath.startswith(excluded)\n",
    "                            for excluded in EXCLUDED_PATH_STARTS\n",
    "                        )\n",
    "                    ):\n",
    "                        if filepath not in file_revisions:\n",
    "                            file_revisions[filepath] = { \"no_revisions\": 0, \"no_lines\": 0 }\n",
    "                        file_revisions[filepath][\"no_revisions\"] += 1\n",
    "\n",
    "    return file_revisions"
   ]
  },
  {
   "cell_type": "code",
   "execution_count": null,
   "metadata": {},
   "outputs": [],
   "source": [
    "def parse_cloc_file(file_revisions, file_path):\n",
    "    with open(file_path, \"r\") as f:\n",
    "        reader = csv.DictReader(f)\n",
    "        for row in reader:\n",
    "            language = row[\"language\"]\n",
    "            filepath = row[\"filename\"].lstrip(\"./\")\n",
    "            blank = int(row[\"blank\"])\n",
    "            comment = int(row[\"comment\"])\n",
    "            code = int(row[\"code\"])\n",
    "\n",
    "            if filepath in file_revisions.keys():\n",
    "                file_revisions[filepath][\"no_lines\"] = code"
   ]
  },
  {
   "cell_type": "code",
   "execution_count": null,
   "metadata": {},
   "outputs": [],
   "source": [
    "def print_statistics(file_revisions):\n",
    "    print(\"File Statistics:\")\n",
    "    print(\"---------------\")\n",
    "\n",
    "    # Sort files by number of revisions in descending order\n",
    "    longest_filepath = max(len(filepath) for filepath in file_revisions.keys())\n",
    "    sorted_files = sorted(\n",
    "        file_revisions.items(), key=lambda x: x[1][\"no_revisions\"], reverse=True\n",
    "    )\n",
    "\n",
    "    print(\"\\nFiles sorted by number of revisions (descending order):\")\n",
    "    print(\"------------------------------------------------------\\n\")\n",
    "    padded_filepath_title = \"Filepath\".ljust(longest_filepath)\n",
    "    print(f\"{padded_filepath_title}      Revisions  Lines of Code\")\n",
    "    for filepath, stats in sorted_files:\n",
    "        padded_filepath = filepath.ljust(longest_filepath)\n",
    "        print(f\"{padded_filepath}  {stats['no_revisions']:13d}  {stats['no_lines']:13d}\")"
   ]
  },
  {
   "cell_type": "code",
   "execution_count": null,
   "metadata": {},
   "outputs": [],
   "source": [
    "file_revisions = parse_git_log(GIT_LOG_FILEPATH)\n",
    "parse_cloc_file(file_revisions, CLOC_FILEPATH)\n",
    "print_statistics(file_revisions)"
   ]
  },
  {
   "cell_type": "markdown",
   "metadata": {},
   "source": []
  }
 ],
 "metadata": {
  "kernelspec": {
   "display_name": "Python 3",
   "language": "python",
   "name": "python3"
  },
  "language_info": {
   "codemirror_mode": {
    "name": "ipython",
    "version": 3
   },
   "file_extension": ".py",
   "mimetype": "text/x-python",
   "name": "python",
   "nbconvert_exporter": "python",
   "pygments_lexer": "ipython3",
   "version": "3.9.6"
  }
 },
 "nbformat": 4,
 "nbformat_minor": 2
}
